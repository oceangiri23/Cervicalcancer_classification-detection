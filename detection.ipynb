{
 "cells": [
  {
   "cell_type": "markdown",
   "id": "cdcb1e41",
   "metadata": {},
   "source": [
    "Import Library"
   ]
  },
  {
   "cell_type": "code",
   "execution_count": null,
   "id": "575402d8",
   "metadata": {},
   "outputs": [],
   "source": [
    "from ultralytics import YOLO\n",
    "import cv2"
   ]
  },
  {
   "cell_type": "markdown",
   "id": "54ca5d40",
   "metadata": {},
   "source": [
    "Train Model"
   ]
  },
  {
   "cell_type": "code",
   "execution_count": null,
   "id": "aedc3ed9",
   "metadata": {},
   "outputs": [],
   "source": [
    "model = YOLO('yolov8s.pt')  # smaller model to reduce overfitting\n",
    "\n",
    "model.train(\n",
    "    data='yolo_dataset/dataset.yaml',\n",
    "    imgsz=640,\n",
    "    epochs=150,\n",
    "    batch=8,\n",
    "    device=0, # For GPU Usage\n",
    "    project='whole_data',\n",
    "    name='cell-balance-augmented',\n",
    "\n",
    "    # Optimizer\n",
    "    optimizer='AdamW',\n",
    "    lr0=0.001,\n",
    "    lrf=0.01,\n",
    "    weight_decay=0.0005,\n",
    "    momentum=0.937,\n",
    "\n",
    "    # Loss Weights\n",
    "    box=7.0, # Bounding box localization is important\n",
    "    cls=1.0,\n",
    "    dfl=1.5,\n",
    "\n",
    "    # Augmentation garna ko laagi (To prevent overfitting)\n",
    "    scale=0.5,\n",
    "    fliplr=0.75,\n",
    "    mosaic=0.5,\n",
    "    mixup=0.1,\n",
    "    hsv_h=0.05,\n",
    "    hsv_s=0.7,\n",
    "    hsv_v=0.6,\n",
    "\n",
    "    # Regularization\n",
    "    label_smoothing=0.1,\n",
    "\n",
    "    # Training Behavior\n",
    "    patience=20, # Early Stopping rounds ko laagi\n",
    "    workers=4, \n",
    "    pretrained=True,\n",
    "    verbose=True,\n",
    "    save=True,\n",
    "    save_period=10\n",
    ")"
   ]
  },
  {
   "cell_type": "markdown",
   "id": "c77fd45b",
   "metadata": {},
   "source": [
    "Test Model"
   ]
  },
  {
   "cell_type": "code",
   "execution_count": null,
   "id": "e166df6a",
   "metadata": {},
   "outputs": [],
   "source": [
    "# Load model and image\n",
    "model = YOLO(\"runs\\detect\\cell-balance-augmented\\weights\\\\best.pt\")\n",
    "results = model(\"yolo_dataset\\images\\\\test\\\\009.bmp\")\n",
    "# Plot results manually\n",
    "result = results[0]\n",
    "img_with_boxes = result.plot(line_width=3, font_size=1)  # Smaller font"
   ]
  },
  {
   "cell_type": "code",
   "execution_count": null,
   "id": "48e65f4a",
   "metadata": {},
   "outputs": [],
   "source": [
    "# Show image using OpenCV\n",
    "img_scaled = cv2.resize(img_with_boxes, (1280, 720))\n",
    "cv2.imshow(\"YOLOv8 Detections\", img_scaled)\n",
    "cv2.waitKey(0)\n",
    "cv2.destroyAllWindows()"
   ]
  },
  {
   "cell_type": "markdown",
   "id": "86109920",
   "metadata": {},
   "source": []
  }
 ],
 "metadata": {
  "kernelspec": {
   "display_name": "Python 3",
   "language": "python",
   "name": "python3"
  },
  "language_info": {
   "codemirror_mode": {
    "name": "ipython",
    "version": 3
   },
   "file_extension": ".py",
   "mimetype": "text/x-python",
   "name": "python",
   "nbconvert_exporter": "python",
   "pygments_lexer": "ipython3",
   "version": "3.10.9"
  }
 },
 "nbformat": 4,
 "nbformat_minor": 5
}
